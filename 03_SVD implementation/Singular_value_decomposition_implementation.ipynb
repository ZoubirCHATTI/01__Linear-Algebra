{
  "nbformat": 4,
  "nbformat_minor": 0,
  "metadata": {
    "colab": {
      "provenance": []
    },
    "kernelspec": {
      "name": "python3",
      "display_name": "Python 3"
    },
    "language_info": {
      "name": "python"
    }
  },
  "cells": [
    {
      "cell_type": "markdown",
      "source": [
        "**Manual implentation of SVD algorithm and comparaison with numpy.linalg.svd function**"
      ],
      "metadata": {
        "id": "mEnaRrP6v7P7"
      }
    },
    {
      "cell_type": "code",
      "source": [
        "#Importation of the necessary libraries\n",
        "import numpy as np"
      ],
      "metadata": {
        "id": "twyrCor7s-2B"
      },
      "execution_count": 1,
      "outputs": []
    },
    {
      "cell_type": "code",
      "execution_count": 2,
      "metadata": {
        "id": "VFehNQyVsD5m"
      },
      "outputs": [],
      "source": [
        "#Implementation of a basic SVD function, a function that doesn't resolve the problem of null singular values\n",
        "def basic_SVD(A):\n",
        "  #Forming the Gram matrix\n",
        "  S=np.dot(A.T, A)\n",
        "\n",
        "  #Calculation of eigenvalues and eigenvectors\n",
        "  eig_val, eig_vec=np.linalg.eig(S)\n",
        "\n",
        "  #Verification of the presence of null eigenvalue\n",
        "  if np.min(eig_val)<=0:\n",
        "    print('error')\n",
        "\n",
        "  else:\n",
        "    #Descending sorting of non_null eigeenvalues\n",
        "    indices=eig_val.argsort()[::-1]\n",
        "    eig_val_sorted=eig_val[indices]\n",
        "\n",
        "    #Sorting of corresponding eigenvectors\n",
        "    eig_vec_sorted=eig_vec[: , indices]\n",
        "\n",
        "    #Singular values determination\n",
        "    sigma=np.sqrt(eig_val_sorted)\n",
        "\n",
        "    #Diagonalisation of singular value matrix\n",
        "    SIGMA=np.diag(sigma)\n",
        "\n",
        "    #Composition of right singular vector\n",
        "    V=eig_vec_sorted\n",
        "\n",
        "    #Composition of left singualr vector\n",
        "    U=[]\n",
        "    for i in range(len(sigma)):\n",
        "      u=np.dot(A, V[: , i])/sigma[i]\n",
        "      U.append(u)\n",
        "    U=np.column_stack(U)\n",
        "\n",
        "    #Decomposition of the matrix A\n",
        "    svd=np.dot(np.dot(U, SIGMA), V.T)\n",
        "\n",
        "    return svd, U, SIGMA, V\n",
        "\n"
      ]
    },
    {
      "cell_type": "code",
      "execution_count": 3,
      "metadata": {
        "id": "JBmCLrMccmBo"
      },
      "outputs": [],
      "source": [
        "#Implementation of SVD function that handles null singular values\n",
        "def red_SVD(A):\n",
        "\n",
        "  #Gram matrix construction\n",
        "  S=np.dot(A.T, A)\n",
        "\n",
        "  #Calculation of eigenvalues and eigenvectors\n",
        "  eig_val, eig_vec=np.linalg.eig(S)\n",
        "\n",
        "  #Zeroing negative (usually very small) eigenvalues\n",
        "  eig_val[eig_val<0]=0\n",
        "\n",
        "  #Descending sorting of non_null eigeenvalues\n",
        "  index=eig_val.argsort()[::-1]\n",
        "  eig_val_sorted=eig_val[index]\n",
        "\n",
        "  #Sorting of corresponding eigenvectors\n",
        "  eig_vec_sorted=eig_vec[: , index]\n",
        "\n",
        "  #Calculation of sigular values\n",
        "  sigma=np.sqrt(eig_val_sorted)\n",
        "\n",
        "  #Creation of non_zero singular values mask (filtering singular values and only preserving non null ones )\n",
        "  non_zero=sigma>1e-6\n",
        "  sigma_red=sigma[non_zero]\n",
        "\n",
        "  #Creation of singular value matrix\n",
        "  SIGMA_red=np.diag(sigma_red)\n",
        "\n",
        "  #Creation of \"a reduced\" right singualr vector\n",
        "  V_red=eig_vec_sorted[: , non_zero]\n",
        "\n",
        "  #Creation of \"a reduced\" left singular vector\n",
        "  U=[]\n",
        "  for i in range(len(sigma_red)):\n",
        "    u=A@V_red[: , i]/sigma_red[i]\n",
        "    U.append(u)\n",
        "  U_red=np.column_stack(U)\n",
        "\n",
        "  #Decomposition of the matrix\n",
        "  svd=U_red@SIGMA_red@V_red.T\n",
        "  return svd, U_red, SIGMA_red, V_red.T\n"
      ]
    },
    {
      "cell_type": "code",
      "source": [
        "#Generation of a random matrix\n",
        "A=np.random.rand(3 , 3)\n",
        "print(A)"
      ],
      "metadata": {
        "colab": {
          "base_uri": "https://localhost:8080/"
        },
        "id": "OnkHZ06E2akQ",
        "outputId": "7b9bdf5d-f565-4b83-a85b-71c46bed909e"
      },
      "execution_count": 4,
      "outputs": [
        {
          "output_type": "stream",
          "name": "stdout",
          "text": [
            "[[6.80668829e-04 9.09190470e-02 7.13795445e-01]\n",
            " [8.96457356e-01 5.26293260e-01 4.36171907e-01]\n",
            " [4.13707157e-01 5.38163898e-01 6.75605819e-01]]\n"
          ]
        }
      ]
    },
    {
      "cell_type": "code",
      "source": [
        "#Testing the basic version of SVD fucntion\n",
        "svd_basic, U_basic, SIGMA_basic, V_basic=basic_SVD(A)\n",
        "print(svd_basic)"
      ],
      "metadata": {
        "colab": {
          "base_uri": "https://localhost:8080/"
        },
        "id": "VXOCDCoa3VLF",
        "outputId": "3dcc3970-4ab0-4eac-9445-e14a3e20e3f9"
      },
      "execution_count": 5,
      "outputs": [
        {
          "output_type": "stream",
          "name": "stdout",
          "text": [
            "[[6.80668829e-04 9.09190470e-02 7.13795445e-01]\n",
            " [8.96457356e-01 5.26293260e-01 4.36171907e-01]\n",
            " [4.13707157e-01 5.38163898e-01 6.75605819e-01]]\n"
          ]
        }
      ]
    },
    {
      "cell_type": "code",
      "source": [
        "#Decompostion using numpy library\n",
        "U, S, Vt=np.linalg.svd(A, full_matrices=False)\n",
        "SVD_numpy=U @ np.diag(S)@Vt\n",
        "print(U @ np.diag(S)@Vt)"
      ],
      "metadata": {
        "colab": {
          "base_uri": "https://localhost:8080/"
        },
        "id": "UtAAJ34m0Nyd",
        "outputId": "1148e6f4-efed-4cb2-d4e1-a2e25b494bc7"
      },
      "execution_count": 6,
      "outputs": [
        {
          "output_type": "stream",
          "name": "stdout",
          "text": [
            "[[6.80668829e-04 9.09190470e-02 7.13795445e-01]\n",
            " [8.96457356e-01 5.26293260e-01 4.36171907e-01]\n",
            " [4.13707157e-01 5.38163898e-01 6.75605819e-01]]\n"
          ]
        }
      ]
    },
    {
      "cell_type": "code",
      "source": [
        "#Testing the reduced version of SVD\n",
        "svd_reduced, U, SIGMA, V=red_SVD(A)\n",
        "print(svd_reduced)"
      ],
      "metadata": {
        "colab": {
          "base_uri": "https://localhost:8080/"
        },
        "id": "wpA_aZlP7a9l",
        "outputId": "91d67842-596c-4e33-e503-adc88eeafc6a"
      },
      "execution_count": 7,
      "outputs": [
        {
          "output_type": "stream",
          "name": "stdout",
          "text": [
            "[[6.80668829e-04 9.09190470e-02 7.13795445e-01]\n",
            " [8.96457356e-01 5.26293260e-01 4.36171907e-01]\n",
            " [4.13707157e-01 5.38163898e-01 6.75605819e-01]]\n"
          ]
        }
      ]
    }
  ]
}