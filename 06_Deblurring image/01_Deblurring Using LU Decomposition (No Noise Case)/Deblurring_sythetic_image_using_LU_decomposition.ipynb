{
  "nbformat": 4,
  "nbformat_minor": 0,
  "metadata": {
    "colab": {
      "provenance": []
    },
    "kernelspec": {
      "name": "python3",
      "display_name": "Python 3"
    },
    "language_info": {
      "name": "python"
    }
  },
  "cells": [
    {
      "cell_type": "markdown",
      "source": [
        "### **Deblurring sythetic image using LU decomposition**"
      ],
      "metadata": {
        "id": "P8W81oRaOpTQ"
      }
    },
    {
      "cell_type": "code",
      "source": [
        "#Importing necessary libraires\n",
        "import numpy as np\n",
        "import matplotlib.pyplot as plt\n",
        "from scipy.signal import convolve2d\n",
        "from scipy.linalg import lu_factor, lu_solve, toeplitz"
      ],
      "metadata": {
        "id": "tjJ7U9fu88Sl"
      },
      "execution_count": 81,
      "outputs": []
    },
    {
      "cell_type": "markdown",
      "source": [
        "**01_The forward problem (the generation of the blurred image)**"
      ],
      "metadata": {
        "id": "bvxoV_1eO2DK"
      }
    },
    {
      "cell_type": "code",
      "source": [
        "#Generation of a synthetic image\n",
        "image=np.zeros((32, 32))   #the image has dimensions of 32 x 32\n",
        "\n",
        "#Adding two rectangles to the image\n",
        "image[12:20, 15:22]=150\n",
        "image[5:10, 2:10]=70\n",
        "#Adding a triangle\n",
        "for i in range(5):\n",
        "  image[20+i, 5:6+i]=56\n",
        "\n",
        "#Adding a circlar forme\n",
        "x_center, y_center= 25,25\n",
        "radius=5\n",
        "for i in range(image.shape[0]):\n",
        "  for j in range(image.shape[1]):\n",
        "    if (i-x_center)**2+(j-y_center)**2<=radius**2:\n",
        "      image[i , j]=100\n",
        "\n",
        "#Normalization of the image\n",
        "image=image/np.max(image)"
      ],
      "metadata": {
        "id": "SUWHw1Re9OQH"
      },
      "execution_count": 82,
      "outputs": []
    },
    {
      "cell_type": "code",
      "source": [
        "#Creation of the kernel of dimension 3, it will be used to blur the image\n",
        "kernel=np.ones(3)/3"
      ],
      "metadata": {
        "id": "XzBYabnT-azR"
      },
      "execution_count": 84,
      "outputs": []
    },
    {
      "cell_type": "code",
      "source": [
        "#Construction of Toeplitz matrix from the 1d kernel\n",
        "def build_1d(n, kernel):\n",
        "  \"\"\"\n",
        "  Construct an n x n Toeplitz matrix corresponding to the 1D convolution with the 1D kernel\n",
        "  Parameters:\n",
        "  n:size of the image we want to blur\n",
        "  kernel: a 1D convolution kernel\n",
        "  \"\"\"\n",
        "  kernel=kernel.flatten()\n",
        "  k=len(kernel)                   #getting the kernel length\n",
        "  center=k//2                     #Getting the indice of the center of the kernel\n",
        "  r=np.zeros(n)                   #Creation of a 'row' that only contains zeros\n",
        "  c=np.zeros(n)                   #Creation of a 'column' that only contains zeros\n",
        "\n",
        "  #Filling the row r nd the column c with the kernel elements to form the toeplitz matrix\n",
        "  for i in range(k):\n",
        "    shift=i-center\n",
        "    if shift >=0 :\n",
        "      r[shift]=kernel[i]\n",
        "    else:\n",
        "      c[-shift]=kernel[i]\n",
        "  return toeplitz (c, r)"
      ],
      "metadata": {
        "id": "mnYeyA8i_5vD"
      },
      "execution_count": 85,
      "outputs": []
    },
    {
      "cell_type": "code",
      "source": [
        "# Construction of Toeplitz matrices corresponding to 1D convolution\n",
        "# T  : Toeplitz matrix for row-wise convolution (horizontal blur)\n",
        "# TT : Toeplitz matrix for column-wise convolution (vertical blur)\n",
        "T=build_1d(image.shape[0], kernel)\n",
        "TT=build_1d(image.shape[0], kernel.T)"
      ],
      "metadata": {
        "id": "WB_5_v1YApoo"
      },
      "execution_count": 86,
      "outputs": []
    },
    {
      "cell_type": "code",
      "source": [
        "# Build the big (Kronecker) matrix H that represents the 2D convolution as a matrix multiplication.\n",
        "H=np.kron(T, TT)"
      ],
      "metadata": {
        "id": "ZJriIWHcA2PX"
      },
      "execution_count": 97,
      "outputs": []
    },
    {
      "cell_type": "code",
      "source": [
        "#Blurring the image\n",
        "blur=H@image.reshape(-1 , 1)  #Blurring is done by applying 2D convolution\n",
        "                              #the dot product of Kronecker matrix with the flatten image  vector simulates this convolution"
      ],
      "metadata": {
        "id": "07wT4GP7A47H"
      },
      "execution_count": 98,
      "outputs": []
    },
    {
      "cell_type": "code",
      "source": [
        "#Visualization of the original and the blur images\n",
        "plt.figure(figsize=(12 , 6))\n",
        "plt.subplot(1 , 2 , 1)\n",
        "plt.imshow(image, cmap='gray')\n",
        "plt.axis('off')\n",
        "plt.title('original image')\n",
        "plt.subplot(1 , 2 , 2)\n",
        "plt.imshow(blur.reshape(image.shape[0] , image.shape[1]), cmap='gray')\n",
        "plt.axis('off')\n",
        "plt.title('Blur image')"
      ],
      "metadata": {
        "colab": {
          "base_uri": "https://localhost:8080/",
          "height": 499
        },
        "id": "f1xPIFOSBMed",
        "outputId": "22bf1c59-fe84-4803-f12e-89ec53342fb6"
      },
      "execution_count": 89,
      "outputs": [
        {
          "output_type": "execute_result",
          "data": {
            "text/plain": [
              "Text(0.5, 1.0, 'Blur image')"
            ]
          },
          "metadata": {},
          "execution_count": 89
        },
        {
          "output_type": "display_data",
          "data": {
            "text/plain": [
              "<Figure size 1200x600 with 2 Axes>"
            ],
            "image/png": "[encoded data removed]"
          },
          "metadata": {}
        }
      ]
    },
    {
      "cell_type": "code",
      "source": [
        "#Decomposition of the H matrix into LU and pivot matrices\n",
        "LU, piv=lu_factor(H)    #This decomposition prepares for the resolution of the linear system Ax=b (A represnts H, x the original image, and b th blurred image)"
      ],
      "metadata": {
        "id": "PjDe8zUBCnzp"
      },
      "execution_count": 90,
      "outputs": []
    },
    {
      "cell_type": "code",
      "source": [
        "#Resolution of the system using LU decompostion\n",
        "solution=lu_solve((LU, piv), blur)                               #Gives a flatten image vector\n",
        "inverted_image=solution.reshape(image.shape[0], image.shape[1])  #reshape to get the original image"
      ],
      "metadata": {
        "id": "i96ERnr0Cslm"
      },
      "execution_count": 91,
      "outputs": []
    },
    {
      "cell_type": "code",
      "source": [
        "#Visualization of the original and the inverted images\n",
        "plt.figure(figsize=(12 , 6))\n",
        "plt.subplot(1 , 2 , 1)\n",
        "plt.imshow(image, cmap='gray')\n",
        "plt.axis('off')\n",
        "plt.title('original image')\n",
        "plt.subplot(1 , 2 , 2)\n",
        "plt.imshow(inverted_image, cmap='gray')\n",
        "plt.axis('off')\n",
        "plt.title('inverted image')"
      ],
      "metadata": {
        "colab": {
          "base_uri": "https://localhost:8080/",
          "height": 499
        },
        "id": "nkzXYGi0DAmh",
        "outputId": "81cb1da6-5281-4183-8297-65226239b2e8"
      },
      "execution_count": 92,
      "outputs": [
        {
          "output_type": "execute_result",
          "data": {
            "text/plain": [
              "Text(0.5, 1.0, 'inveerted image')"
            ]
          },
          "metadata": {},
          "execution_count": 92
        },
        {
          "output_type": "display_data",
          "data": {
            "text/plain": [
              "<Figure size 1200x600 with 2 Axes>"
            ],
            "image/png": "[encoded data removed]"
          },
          "metadata": {}
        }
      ]
    },
    {
      "cell_type": "code",
      "source": [
        "#Evaluation of the results\n",
        "from sklearn.metrics import mean_squared_error\n",
        "mse=mean_squared_error(image, inverted_image)\n",
        "print(f\"MSE={mse:.4f}\")"
      ],
      "metadata": {
        "colab": {
          "base_uri": "https://localhost:8080/"
        },
        "id": "IkqkpJKZDl6d",
        "outputId": "140f878e-9c5e-4c90-bb28-0cc4b96a829a"
      },
      "execution_count": 100,
      "outputs": [
        {
          "output_type": "stream",
          "name": "stdout",
          "text": [
            "MSE=0.0000\n"
          ]
        }
      ]
    }
  ]
}