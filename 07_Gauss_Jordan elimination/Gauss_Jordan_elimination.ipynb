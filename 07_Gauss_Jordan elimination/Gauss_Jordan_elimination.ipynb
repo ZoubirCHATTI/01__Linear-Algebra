{
  "nbformat": 4,
  "nbformat_minor": 0,
  "metadata": {
    "colab": {
      "provenance": [],
      "authorship_tag": "ABX9TyOyGakRX/udUp4ccoA5n2cc",
      "include_colab_link": true
    },
    "kernelspec": {
      "name": "python3",
      "display_name": "Python 3"
    },
    "language_info": {
      "name": "python"
    }
  },
  "cells": [
    {
      "cell_type": "markdown",
      "metadata": {
        "id": "view-in-github",
        "colab_type": "text"
      },
      "source": [
        "<a href=\"https://colab.research.google.com/github/ZoubirCHATTI/01__Linear-Algebra/blob/main/07_Gauss_Jordan%20elimination/Gauss_Jordan_elimination.ipynb\" target=\"_parent\"><img src=\"https://colab.research.google.com/assets/colab-badge.svg\" alt=\"Open In Colab\"/></a>"
      ]
    },
    {
      "cell_type": "markdown",
      "source": [
        "# **Gauss Jordan elimination**"
      ],
      "metadata": {
        "id": "7Dg4MDJUlhP_"
      }
    },
    {
      "cell_type": "markdown",
      "source": [
        "In this notebook, we will explore the Gauss-Jordan elimination method to solve linear systems of equations.\n",
        "We will begin with simple, synthetic examples to understand the core concepts and step-by-step procedures.\n",
        "Then, we will apply these techniques to more complex, real-world cases to see how Gauss-Jordan elimination helps in practical problem solving.\n",
        "The principle libraries used are NumPy, SymPy and Matplotlib"
      ],
      "metadata": {
        "id": "uNgNbU_rmAci"
      }
    },
    {
      "cell_type": "code",
      "execution_count": 1,
      "metadata": {
        "id": "sDrdjezfY1ge"
      },
      "outputs": [],
      "source": [
        "import matplotlib.pyplot as plt\n",
        "import numpy as np\n",
        "import sympy as sy"
      ]
    },
    {
      "cell_type": "code",
      "source": [
        "sy.init_printing()"
      ],
      "metadata": {
        "id": "bJSLV0N2fj9W"
      },
      "execution_count": null,
      "outputs": []
    },
    {
      "cell_type": "markdown",
      "source": [
        "**01_Simple case where the number of unkowns is the same as the number of equations**"
      ],
      "metadata": {
        "id": "GzB1aF_nuTeP"
      }
    },
    {
      "cell_type": "markdown",
      "source": [
        "assume we have the following system:\n",
        "\\\n",
        "\\begin{cases}\n",
        "4x + 5y + 3z = 0 \\\\\n",
        "5x + 7y + 6z = 3 \\\\\n",
        "11x + 3y + 5z = 7\n",
        "\\end{cases}\n",
        "\n",
        "\n",
        "we are going to solve this system using the Gauss_Jordan elimination. Since the number of unknowns equals the number of equations, the system is square and potentially has a unique solution.\n",
        "\n",
        "first , we construct the augmented matrix using SymPy\n",
        "\n"
      ],
      "metadata": {
        "id": "9-w5sEqEnetB"
      }
    },
    {
      "cell_type": "code",
      "source": [
        "#The augmented matrix is the matrix that combines the coefficients of the variables and the constants from the system of equations into one matrix\n",
        "augmented_matrix=sy.Matrix([[4 , 5 , 3 , 0], [5 , 7 , 6 , 3], [11 , 3 , 5 , 7]])"
      ],
      "metadata": {
        "id": "PJFqH9uAfnaI"
      },
      "execution_count": 11,
      "outputs": []
    },
    {
      "cell_type": "markdown",
      "source": [
        "Gauss-Jordan elimination is a systematic method for solving linear systems by transforming the augmented matrix into its reduced row echelon form (RREF). In RREF, the matrix has a very specific structure that makes it easy to read off the solutions directly:\n",
        "\n",
        "Each leading entry (pivot) in a row is 1.\n",
        "\n",
        "Each pivot is the only nonzero entry in its column.\n",
        "\n",
        "Rows with all zeros are at the bottom.\n",
        "\n",
        "The pivots move strictly to the right as you go down the rows.\n",
        "\n",
        "By applying elementary row operations (row swapping, scaling, and adding  multiples of one row to another), the augmented matrix is simplified step-by-step until it reaches this canonical form.\n",
        "\n",
        "Once in RREF, the solution to the system is clearly visible:\n",
        "\n",
        "If every variable corresponds to a pivot column, there is a unique solution.\n",
        "\n",
        "If some variables correspond to free columns (no pivot), the system has infinitely many solutions expressed in terms of those free variables.\n",
        "\n",
        "If there is a contradictory row (like [0,0,…,0∣c] with\n",
        "𝑐≠ = 0 ), the system has no solution.\n",
        "\n",
        "In SymPy, the rref() function automates this entire process: it takes a matrix and returns its reduced row echelon form along with the list of pivot columns. This makes solving linear systems efficient and less error-prone."
      ],
      "metadata": {
        "id": "ePTjtqKBqxaU"
      }
    },
    {
      "cell_type": "code",
      "source": [
        "augmented_matrix.rref()"
      ],
      "metadata": {
        "colab": {
          "base_uri": "https://localhost:8080/"
        },
        "id": "DQ9ck3LDouEw",
        "outputId": "4e80330b-6fe1-4064-dda1-9964694a6e45"
      },
      "execution_count": 12,
      "outputs": [
        {
          "output_type": "execute_result",
          "data": {
            "text/plain": [
              "(Matrix([\n",
              " [1, 0, 0,   5/29],\n",
              " [0, 1, 0, -34/29],\n",
              " [0, 0, 1,  50/29]]),\n",
              " (0, 1, 2))"
            ]
          },
          "metadata": {},
          "execution_count": 12
        }
      ]
    },
    {
      "cell_type": "markdown",
      "source": [
        "What we see here is the augmented matrix in its reduced row echelon form (RREF), where all the pivots are equal to 1. The elements of the last column represent the solutions of the system.\n",
        "\n",
        "\\begin{cases}\n",
        "1x+ 0y + 0z = 5/29 \\\\\n",
        "0x + 1y + 0z =-34/29 \\\\\n",
        "0x + 0y+ 1z =50/29\n",
        "\\end{cases}\n"
      ],
      "metadata": {
        "id": "sCVyMnWksbgr"
      }
    },
    {
      "cell_type": "markdown",
      "source": [
        "**02_Case where the number of equations is less than the number of unknowns**"
      ],
      "metadata": {
        "id": "3Pqa1rrGufwa"
      }
    },
    {
      "cell_type": "code",
      "source": [],
      "metadata": {
        "id": "cM-SsjUDup0p"
      },
      "execution_count": null,
      "outputs": []
    }
  ]
}